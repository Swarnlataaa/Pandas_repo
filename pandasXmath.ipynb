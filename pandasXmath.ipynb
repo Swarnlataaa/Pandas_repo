{
  "nbformat": 4,
  "nbformat_minor": 0,
  "metadata": {
    "colab": {
      "provenance": [],
      "authorship_tag": "ABX9TyOL0a5zKDd83i3T2R5qfscX",
      "include_colab_link": true
    },
    "kernelspec": {
      "name": "python3",
      "display_name": "Python 3"
    },
    "language_info": {
      "name": "python"
    }
  },
  "cells": [
    {
      "cell_type": "markdown",
      "metadata": {
        "id": "view-in-github",
        "colab_type": "text"
      },
      "source": [
        "<a href=\"https://colab.research.google.com/github/Swarnlataaa/Pandas_repo/blob/main/pandasXmath.ipynb\" target=\"_parent\"><img src=\"https://colab.research.google.com/assets/colab-badge.svg\" alt=\"Open In Colab\"/></a>"
      ]
    },
    {
      "cell_type": "code",
      "execution_count": null,
      "metadata": {
        "id": "zjmxP3V5i7zQ"
      },
      "outputs": [],
      "source": [
        "import pandas as pd\n",
        "import matplotlib.pyplot as plt\n",
        "\n",
        "# Create a sample DataFrame\n",
        "data = {\n",
        "    'Year': [2010, 2011, 2012, 2013, 2014],\n",
        "    'Revenue': [100000, 120000, 150000, 180000, 200000],\n",
        "    'Profit': [25000, 30000, 35000, 40000, 45000]\n",
        "}\n",
        "\n",
        "df = pd.DataFrame(data)\n",
        "\n",
        "# Plotting using Matplotlib\n",
        "plt.figure(figsize=(8, 4))\n",
        "plt.plot(df['Year'], df['Revenue'], label='Revenue', marker='o', linestyle='-')\n",
        "plt.plot(df['Year'], df['Profit'], label='Profit', marker='s', linestyle='--')\n",
        "\n",
        "plt.title('Revenue and Profit Over Years')\n",
        "plt.xlabel('Year')\n",
        "plt.ylabel('Amount')\n",
        "plt.legend()\n",
        "plt.grid(True)\n",
        "\n",
        "# Show the plot\n",
        "plt.show()\n"
      ]
    },
    {
      "cell_type": "markdown",
      "source": [
        "### line plot"
      ],
      "metadata": {
        "id": "iZrO_eHojCa1"
      }
    },
    {
      "cell_type": "code",
      "source": [
        "import pandas as pd\n",
        "import matplotlib.pyplot as plt\n",
        "\n",
        "data = {'Year': [2010, 2011, 2012, 2013, 2014],\n",
        "        'Revenue': [100000, 120000, 150000, 180000, 200000]}\n",
        "df = pd.DataFrame(data)\n",
        "\n",
        "plt.plot(df['Year'], df['Revenue'])\n",
        "plt.title('Yearly Revenue')\n",
        "plt.xlabel('Year')\n",
        "plt.ylabel('Revenue')\n",
        "plt.show()\n"
      ],
      "metadata": {
        "id": "1VpTp7vbjAaq"
      },
      "execution_count": null,
      "outputs": []
    },
    {
      "cell_type": "markdown",
      "source": [
        "### Bar plot"
      ],
      "metadata": {
        "id": "UXmEZxbkjGt9"
      }
    },
    {
      "cell_type": "code",
      "source": [
        "import pandas as pd\n",
        "import matplotlib.pyplot as plt\n",
        "\n",
        "data = {'Category': ['A', 'B', 'C', 'D'],\n",
        "        'Value': [10, 25, 30, 15]}\n",
        "df = pd.DataFrame(data)\n",
        "\n",
        "plt.bar(df['Category'], df['Value'])\n",
        "plt.title('Bar Chart')\n",
        "plt.xlabel('Category')\n",
        "plt.ylabel('Value')\n",
        "plt.show()\n"
      ],
      "metadata": {
        "id": "gigIE5BEjKle"
      },
      "execution_count": null,
      "outputs": []
    },
    {
      "cell_type": "markdown",
      "source": [
        "### Histogram"
      ],
      "metadata": {
        "id": "gugFuFq2jLdU"
      }
    },
    {
      "cell_type": "code",
      "source": [
        "import pandas as pd\n",
        "import matplotlib.pyplot as plt\n",
        "\n",
        "data = {'Age': [25, 30, 35, 40, 45, 50, 55, 60, 65, 70]}\n",
        "df = pd.DataFrame(data)\n",
        "\n",
        "plt.hist(df['Age'], bins=5)\n",
        "plt.title('Age Distribution')\n",
        "plt.xlabel('Age')\n",
        "plt.ylabel('Frequency')\n",
        "plt.show()\n"
      ],
      "metadata": {
        "id": "A7xTuDaIjPCO"
      },
      "execution_count": null,
      "outputs": []
    },
    {
      "cell_type": "markdown",
      "source": [
        "### Scatter Plot"
      ],
      "metadata": {
        "id": "RXjnD4nhjQBI"
      }
    },
    {
      "cell_type": "code",
      "source": [
        "import pandas as pd\n",
        "import matplotlib.pyplot as plt\n",
        "\n",
        "data = {'X': [1, 2, 3, 4, 5],\n",
        "        'Y': [10, 15, 13, 18, 22]}\n",
        "df = pd.DataFrame(data)\n",
        "\n",
        "plt.scatter(df['X'], df['Y'])\n",
        "plt.title('Scatter Plot')\n",
        "plt.xlabel('X')\n",
        "plt.ylabel('Y')\n",
        "plt.show()\n"
      ],
      "metadata": {
        "id": "sK9uKHeBjbCF"
      },
      "execution_count": null,
      "outputs": []
    },
    {
      "cell_type": "markdown",
      "source": [
        "### Pie Chart"
      ],
      "metadata": {
        "id": "B7vjHzA9jbpq"
      }
    },
    {
      "cell_type": "code",
      "source": [
        "import pandas as pd\n",
        "import matplotlib.pyplot as plt\n",
        "\n",
        "data = {'Category': ['A', 'B', 'C', 'D'],\n",
        "        'Value': [10, 25, 30, 15]}\n",
        "df = pd.DataFrame(data)\n",
        "\n",
        "plt.pie(df['Value'], labels=df['Category'], autopct='%1.1f%%')\n",
        "plt.title('Pie Chart')\n",
        "plt.show()\n"
      ],
      "metadata": {
        "id": "PZ0VMGNujfEt"
      },
      "execution_count": null,
      "outputs": []
    },
    {
      "cell_type": "markdown",
      "source": [
        "### Box Plot"
      ],
      "metadata": {
        "id": "mBtQ8we1jha7"
      }
    },
    {
      "cell_type": "code",
      "source": [
        "import pandas as pd\n",
        "import matplotlib.pyplot as plt\n",
        "\n",
        "data = {'Category': ['A', 'A', 'B', 'B', 'C', 'C'],\n",
        "        'Value': [10, 15, 25, 30, 20, 22]}\n",
        "df = pd.DataFrame(data)\n",
        "\n",
        "plt.boxplot([df[df['Category'] == 'A']['Value'], df[df['Category'] == 'B']['Value'], df[df['Category'] == 'C']['Value']])\n",
        "plt.title('Box Plot')\n",
        "plt.xticks([1, 2, 3], ['A', 'B', 'C'])\n",
        "plt.ylabel('Value')\n",
        "plt.show()\n"
      ],
      "metadata": {
        "id": "6XZJJJQ7ji_2"
      },
      "execution_count": null,
      "outputs": []
    }
  ]
}