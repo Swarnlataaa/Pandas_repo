{
  "nbformat": 4,
  "nbformat_minor": 0,
  "metadata": {
    "colab": {
      "provenance": [],
      "authorship_tag": "ABX9TyOZ6Kc+Ua4gyhh3p9w8TwId",
      "include_colab_link": true
    },
    "kernelspec": {
      "name": "python3",
      "display_name": "Python 3"
    },
    "language_info": {
      "name": "python"
    }
  },
  "cells": [
    {
      "cell_type": "markdown",
      "metadata": {
        "id": "view-in-github",
        "colab_type": "text"
      },
      "source": [
        "<a href=\"https://colab.research.google.com/github/Swarnlataaa/Pandas_repo/blob/main/pandas.ipynb\" target=\"_parent\"><img src=\"https://colab.research.google.com/assets/colab-badge.svg\" alt=\"Open In Colab\"/></a>"
      ]
    },
    {
      "cell_type": "code",
      "source": [
        "import pandas as pd\n",
        "\n",
        "# Load data from a CSV file into a DataFrame\n",
        "data = pd.read_csv('data.csv')\n",
        "\n",
        "# Display the first few rows of the DataFrame\n",
        "print(data.head())\n",
        "\n",
        "# Calculate some summary statistics\n",
        "mean_age = data['Age'].mean()\n",
        "max_salary = data['Salary'].max()\n",
        "\n",
        "# Filter data based on a condition\n",
        "high_earners = data[data['Salary'] > 50000]\n",
        "\n",
        "# Save the filtered data to a new CSV file\n",
        "high_earners.to_csv('high_earners.csv', index=False)\n"
      ],
      "metadata": {
        "id": "rQvJt4hJkHpg"
      },
      "execution_count": null,
      "outputs": []
    },
    {
      "cell_type": "markdown",
      "source": [
        "### Importing pandas"
      ],
      "metadata": {
        "id": "UYCy3J_CkRsQ"
      }
    },
    {
      "cell_type": "code",
      "source": [
        "import pandas as pd\n"
      ],
      "metadata": {
        "id": "2f6iNH3fkLhB"
      },
      "execution_count": null,
      "outputs": []
    },
    {
      "cell_type": "markdown",
      "source": [
        "### Creating a dataframe"
      ],
      "metadata": {
        "id": "InVbR9cTkW-r"
      }
    },
    {
      "cell_type": "code",
      "source": [
        "data = {\n",
        "    'Name': ['Alice', 'Bob', 'Charlie'],\n",
        "    'Age': [25, 30, 35],\n",
        "    'City': ['New York', 'Los Angeles', 'Chicago']\n",
        "}\n",
        "df = pd.DataFrame(data)\n"
      ],
      "metadata": {
        "id": "y4ZIsuXbkcRD"
      },
      "execution_count": null,
      "outputs": []
    },
    {
      "cell_type": "markdown",
      "source": [
        "### Viewing data"
      ],
      "metadata": {
        "id": "zBHxZOUIkc4a"
      }
    },
    {
      "cell_type": "code",
      "source": [
        "print(df.head())\n"
      ],
      "metadata": {
        "id": "m_bycN0Ukgo1"
      },
      "execution_count": null,
      "outputs": []
    },
    {
      "cell_type": "markdown",
      "source": [
        "### Accessing columns"
      ],
      "metadata": {
        "id": "thqfjhUOkhPO"
      }
    },
    {
      "cell_type": "code",
      "source": [
        "names = df['Name']\n",
        "ages = df.Age  # Using dot notation\n"
      ],
      "metadata": {
        "id": "c9YKXTkBkll4"
      },
      "execution_count": null,
      "outputs": []
    },
    {
      "cell_type": "markdown",
      "source": [
        "### Basic stats"
      ],
      "metadata": {
        "id": "WDe_070Sknza"
      }
    },
    {
      "cell_type": "code",
      "source": [
        "mean_age = df['Age'].mean()\n",
        "max_age = df['Age'].max()\n"
      ],
      "metadata": {
        "id": "R3AjLNvmkrCc"
      },
      "execution_count": null,
      "outputs": []
    },
    {
      "cell_type": "markdown",
      "source": [
        "### Filtering data"
      ],
      "metadata": {
        "id": "IYqBLQcNktZN"
      }
    },
    {
      "cell_type": "code",
      "source": [
        "young_people = df[df['Age'] < 30]\n"
      ],
      "metadata": {
        "id": "s_VggFD3kxvD"
      },
      "execution_count": null,
      "outputs": []
    },
    {
      "cell_type": "markdown",
      "source": [
        "### Sorting data"
      ],
      "metadata": {
        "id": "KPgg9TdRk0S5"
      }
    },
    {
      "cell_type": "code",
      "source": [
        "df.sort_values(by='Age', ascending=False, inplace=True)\n"
      ],
      "metadata": {
        "id": "2FqHMY1yk2Tf"
      },
      "execution_count": null,
      "outputs": []
    },
    {
      "cell_type": "markdown",
      "source": [
        "### Adding new column"
      ],
      "metadata": {
        "id": "0cq5HjJgk3CA"
      }
    },
    {
      "cell_type": "code",
      "source": [
        "df['Salary'] = [60000, 75000, 80000]\n"
      ],
      "metadata": {
        "id": "oq0FxM7Kk7SU"
      },
      "execution_count": null,
      "outputs": []
    },
    {
      "cell_type": "markdown",
      "source": [
        "### Grouping data"
      ],
      "metadata": {
        "id": "zaliwWEdk9cm"
      }
    },
    {
      "cell_type": "code",
      "source": [
        "grouped = df.groupby('City')['Salary'].mean()\n",
        "\n"
      ],
      "metadata": {
        "id": "9bwgq-CSk_cJ"
      },
      "execution_count": null,
      "outputs": []
    },
    {
      "cell_type": "markdown",
      "source": [
        "### Handling missing data"
      ],
      "metadata": {
        "id": "QqSa4f5QlCzj"
      }
    },
    {
      "cell_type": "code",
      "source": [
        "df.dropna()  # Remove rows with missing values\n",
        "df.fillna(0)  # Fill missing values with 0\n"
      ],
      "metadata": {
        "id": "Uz6PWkellG4r"
      },
      "execution_count": null,
      "outputs": []
    },
    {
      "cell_type": "markdown",
      "source": [
        "### Merging data frames"
      ],
      "metadata": {
        "id": "zN74YD7vlHom"
      }
    },
    {
      "cell_type": "code",
      "source": [
        "merged_df = pd.merge(df1, df2, on='key_column', how='inner')\n"
      ],
      "metadata": {
        "id": "dsCnFyFqlQuB"
      },
      "execution_count": null,
      "outputs": []
    },
    {
      "cell_type": "markdown",
      "source": [
        "### Reading and writing data"
      ],
      "metadata": {
        "id": "qKJl2jkflRc_"
      }
    },
    {
      "cell_type": "code",
      "source": [
        "df = pd.read_csv('data.csv')\n",
        "df.to_excel('data.xlsx', index=False)\n"
      ],
      "metadata": {
        "id": "IM_76-RRlVpi"
      },
      "execution_count": null,
      "outputs": []
    },
    {
      "cell_type": "markdown",
      "source": [
        "### Plotting data"
      ],
      "metadata": {
        "id": "-xyyq0ZglWdV"
      }
    },
    {
      "cell_type": "code",
      "source": [
        "import matplotlib.pyplot as plt\n",
        "df.plot(x='Age', y='Salary', kind='scatter')\n",
        "plt.show()\n"
      ],
      "metadata": {
        "id": "mL4ZoZQplZXE"
      },
      "execution_count": null,
      "outputs": []
    },
    {
      "cell_type": "markdown",
      "source": [
        "### Renaming columns"
      ],
      "metadata": {
        "id": "IiMhIWtElbxc"
      }
    },
    {
      "cell_type": "code",
      "source": [
        "df.rename(columns={'Name': 'Full Name', 'Age': 'Years Old'}, inplace=True)\n"
      ],
      "metadata": {
        "id": "Mbl_dsKElePh"
      },
      "execution_count": null,
      "outputs": []
    },
    {
      "cell_type": "markdown",
      "source": [
        "### Aggreating data"
      ],
      "metadata": {
        "id": "7n34aWQzlgbd"
      }
    },
    {
      "cell_type": "code",
      "source": [
        "total_salary = df['Salary'].sum()\n",
        "average_age = df['Years Old'].mean()\n"
      ],
      "metadata": {
        "id": "9saJKIGclj3L"
      },
      "execution_count": null,
      "outputs": []
    },
    {
      "cell_type": "markdown",
      "source": [
        "### Dropping columns"
      ],
      "metadata": {
        "id": "fQ14mKcolkr_"
      }
    },
    {
      "cell_type": "code",
      "source": [
        "df.drop(columns=['City'], inplace=True)\n"
      ],
      "metadata": {
        "id": "XWOzARi6lpaG"
      },
      "execution_count": null,
      "outputs": []
    },
    {
      "cell_type": "markdown",
      "source": [
        "### Iterating over rows"
      ],
      "metadata": {
        "id": "2j_Z5HNXl55b"
      }
    },
    {
      "cell_type": "code",
      "source": [
        "for index, row in df.iterrows():\n",
        "    print(row['Full Name'], row['Years Old'])\n"
      ],
      "metadata": {
        "id": "U6cd3R2Tl8TC"
      },
      "execution_count": null,
      "outputs": []
    },
    {
      "cell_type": "markdown",
      "source": [
        "### Pivoting data"
      ],
      "metadata": {
        "id": "ZwsfIYPpl8-Q"
      }
    },
    {
      "cell_type": "code",
      "source": [
        "pivoted = df.pivot(index='Full Name', columns='Years Old', values='Salary')\n"
      ],
      "metadata": {
        "id": "JfMB69wbmCA8"
      },
      "execution_count": null,
      "outputs": []
    },
    {
      "cell_type": "markdown",
      "source": [
        "### String operations"
      ],
      "metadata": {
        "id": "mi2gqca7mCq0"
      }
    },
    {
      "cell_type": "code",
      "source": [
        "df['Full Name'] = df['Full Name'].str.upper()\n"
      ],
      "metadata": {
        "id": "xyZ5RTKamGnI"
      },
      "execution_count": null,
      "outputs": []
    },
    {
      "cell_type": "markdown",
      "source": [
        "### Date and time handling"
      ],
      "metadata": {
        "id": "u9NwGAiImIpn"
      }
    },
    {
      "cell_type": "code",
      "source": [
        "df['Birthdate'] = pd.to_datetime(df['Birthdate'])\n",
        "df['Age'] = (pd.to_datetime('now') - df['Birthdate']).astype('<m8[Y]')\n"
      ],
      "metadata": {
        "id": "c-OM9F0EmLV4"
      },
      "execution_count": null,
      "outputs": []
    },
    {
      "cell_type": "markdown",
      "source": [
        "### Duplicating and dropping duplicates"
      ],
      "metadata": {
        "id": "nOUe4QzUmN8G"
      }
    },
    {
      "cell_type": "code",
      "source": [
        "df_duplicate = df[df.duplicated()]\n",
        "df_no_duplicates = df.drop_duplicates()\n"
      ],
      "metadata": {
        "id": "UOphFetjmRjP"
      },
      "execution_count": null,
      "outputs": []
    },
    {
      "cell_type": "markdown",
      "source": [
        "### Cross tabulation"
      ],
      "metadata": {
        "id": "vxCUZEpOmUB6"
      }
    },
    {
      "cell_type": "code",
      "source": [
        "cross_tab = pd.crosstab(df['City'], df['Gender'])\n"
      ],
      "metadata": {
        "id": "iR9W23ATmV4v"
      },
      "execution_count": null,
      "outputs": []
    },
    {
      "cell_type": "markdown",
      "source": [
        "### Reshaping data"
      ],
      "metadata": {
        "id": "xjd-da3KmYSu"
      }
    },
    {
      "cell_type": "code",
      "source": [
        "melted_df = pd.melt(df, id_vars=['Full Name'], value_vars=['Salary', 'Years Old'], var_name='Attribute', value_name='Value')\n"
      ],
      "metadata": {
        "id": "3lDvL3aGmaTe"
      },
      "execution_count": null,
      "outputs": []
    },
    {
      "cell_type": "markdown",
      "source": [
        "### Apply custom functions"
      ],
      "metadata": {
        "id": "u9BMnBxtmcoN"
      }
    },
    {
      "cell_type": "code",
      "source": [
        "def double_salary(salary):\n",
        "    return salary * 2\n",
        "\n",
        "df['Doubled Salary'] = df['Salary'].apply(double_salary)\n"
      ],
      "metadata": {
        "id": "NgOZVDCGme5B"
      },
      "execution_count": null,
      "outputs": []
    },
    {
      "cell_type": "markdown",
      "source": [
        "### using pd.series and pd.dataframes"
      ],
      "metadata": {
        "id": "-PITLnQYmhSk"
      }
    },
    {
      "cell_type": "code",
      "source": [
        "series_data = pd.Series([1, 2, 3, 4])\n",
        "df_data = pd.DataFrame({'A': [1, 2, 3], 'B': [4, 5, 6]})\n"
      ],
      "metadata": {
        "id": "iSyG4LkfmyAk"
      },
      "execution_count": null,
      "outputs": []
    },
    {
      "cell_type": "markdown",
      "source": [
        "### Handling missing values with pandas"
      ],
      "metadata": {
        "id": "Y81useBumyky"
      }
    },
    {
      "cell_type": "code",
      "source": [
        "import pandas as pd\n",
        "\n",
        "# Create a sample DataFrame with missing values\n",
        "data = {\n",
        "    'A': [1, 2, None, 4, 5],\n",
        "    'B': [None, 2, 3, None, 5]\n",
        "}\n",
        "df = pd.DataFrame(data)\n",
        "\n",
        "# Check for missing values\n",
        "print(df.isna())\n",
        "\n",
        "# Fill missing values with a specific value\n",
        "df.fillna(0, inplace=True)\n",
        "\n",
        "# Drop rows with missing values\n",
        "df.dropna(inplace=True)\n"
      ],
      "metadata": {
        "id": "_j9_3tiim5ky"
      },
      "execution_count": null,
      "outputs": []
    },
    {
      "cell_type": "markdown",
      "source": [
        "### Using scikit-learn for imputation"
      ],
      "metadata": {
        "id": "cQeW-Kiam8Aw"
      }
    },
    {
      "cell_type": "code",
      "source": [
        "from sklearn.impute import SimpleImputer\n",
        "\n",
        "# Create a SimpleImputer with a specific strategy (e.g., mean)\n",
        "imputer = SimpleImputer(strategy='mean')\n"
      ],
      "metadata": {
        "id": "i1UCZUaxnCY8"
      },
      "execution_count": null,
      "outputs": []
    },
    {
      "cell_type": "markdown",
      "source": [
        "### Imputing missing values"
      ],
      "metadata": {
        "id": "Mmp_1h7_nEuv"
      }
    },
    {
      "cell_type": "code",
      "source": [
        "# Select columns with missing values for imputation\n",
        "numeric_columns = df.select_dtypes(include='number')\n",
        "\n",
        "# Fit and transform the imputer on the numeric columns\n",
        "imputed_data = imputer.fit_transform(numeric_columns)\n",
        "\n",
        "# Create a new DataFrame with the imputed values\n",
        "imputed_df = pd.DataFrame(imputed_data, columns=numeric_columns.columns)\n"
      ],
      "metadata": {
        "id": "Aae1Sjd9nHxs"
      },
      "execution_count": null,
      "outputs": []
    }
  ]
}